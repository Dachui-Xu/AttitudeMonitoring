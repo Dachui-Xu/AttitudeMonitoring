{
 "cells": [
  {
   "metadata": {},
   "cell_type": "markdown",
   "source": "## 数据预处理",
   "id": "cedaa2626ba8cef5"
  },
  {
   "cell_type": "code",
   "id": "initial_id",
   "metadata": {
    "collapsed": true,
    "ExecuteTime": {
     "end_time": "2024-07-03T08:50:04.053888Z",
     "start_time": "2024-07-03T08:50:00.806834Z"
    }
   },
   "source": [
    "import pandas as pd\n",
    "\n",
    "# 读取CSV文件\n",
    "left_data = pd.read_csv('left.csv')\n",
    "right_data = pd.read_csv('right.csv')\n",
    "up_data = pd.read_csv('up.csv')\n",
    "down_data = pd.read_csv('down.csv')\n",
    "\n",
    "# 定义一个函数来保留正向冲击\n",
    "def retain_positive_spikes(data):\n",
    "    return data[data > data.mean()]\n",
    "\n",
    "# 对每个传感器数据进行处理，保留正向冲击\n",
    "left_data_processed = left_data.apply(retain_positive_spikes)\n",
    "right_data_processed = right_data.apply(retain_positive_spikes)\n",
    "up_data_processed = up_data.apply(retain_positive_spikes)\n",
    "down_data_processed = down_data.apply(retain_positive_spikes)\n",
    "# 保存预处理后的数据\n",
    "left_data_processed.to_csv('./data/left_processed.csv', index=False)\n",
    "right_data_processed.to_csv('./data/right_processed.csv', index=False)\n",
    "up_data_processed.to_csv('./data/up_processed.csv', index=False)\n",
    "down_data_processed.to_csv('./data/down_processed.csv',index=False)"
   ],
   "outputs": [],
   "execution_count": 1
  },
  {
   "metadata": {},
   "cell_type": "markdown",
   "source": "## 模型训练",
   "id": "1938734286983d56"
  },
  {
   "metadata": {},
   "cell_type": "code",
   "outputs": [],
   "execution_count": null,
   "source": [
    "#测试Tensoflow\n",
    "import tensorflow as tf\n",
    "print(\"TensorFlow version:\", tf.__version__)"
   ],
   "id": "2abde41653837e00"
  },
  {
   "metadata": {},
   "cell_type": "code",
   "outputs": [],
   "execution_count": null,
   "source": [
    "import tensorflow as tf\n",
    "\n",
    "\n",
    "# 读取预处理后的CSV文件\n",
    "left_data = pd.read_csv('./data/left_processed.csv')\n",
    "right_data = pd.read_csv('./data/right_processed.csv')\n",
    "up_data = pd.read_csv('./data/up_processed.csv')\n",
    "down_data = pd.read_csv('./data/down_processed.csv')\n",
    "\n",
    "# 添加标签列\n",
    "left_data['label'] = 'left'\n",
    "right_data['label'] = 'right'\n",
    "up_data['label'] = 'up'\n",
    "down_data['label'] = 'down'\n",
    "\n",
    "# 合并所有数据\n",
    "all_data = pd.concat([left_data, right_data, up_data, down_data])\n",
    "\n",
    "# 分离特征和标签\n",
    "X = all_data.drop(columns=['label'])\n",
    "y = all_data['label']\n",
    "\n",
    "# 将标签转换为数字编码\n",
    "from sklearn.preprocessing import LabelEncoder\n",
    "encoder = LabelEncoder()\n",
    "y_encoded = encoder.fit_transform(y)\n",
    "\n",
    "# 分割训练集和测试集\n",
    "from sklearn.model_selection import train_test_split\n",
    "X_train, X_test, y_train, y_test = train_test_split(X, y_encoded, test_size=0.2, random_state=42)\n",
    "\n",
    "# 定义模型\n",
    "model = tf.keras.Sequential([\n",
    "    tf.keras.layers.Dense(128, activation='relu', input_shape=(X_train.shape[1],)),\n",
    "    tf.keras.layers.Dense(64, activation='relu'),\n",
    "    tf.keras.layers.Dense(len(encoder.classes_), activation='softmax')\n",
    "])\n",
    "\n",
    "# 编译模型\n",
    "model.compile(optimizer='adam', loss='sparse_categorical_crossentropy', metrics=['accuracy'])\n",
    "\n",
    "# 训练模型\n",
    "model.fit(X_train, y_train, epochs=10, validation_split=0.2)\n",
    "\n",
    "# 评估模型\n",
    "loss, accuracy = model.evaluate(X_test, y_test)\n",
    "print(f'Test accuracy: {accuracy}')\n",
    "\n",
    "# 保存模型\n",
    "model.save('/mnt/data/sensor_model.h5')\n"
   ],
   "id": "75d259231d8ee3b2"
  }
 ],
 "metadata": {
  "kernelspec": {
   "display_name": "Python 3",
   "language": "python",
   "name": "python3"
  },
  "language_info": {
   "codemirror_mode": {
    "name": "ipython",
    "version": 2
   },
   "file_extension": ".py",
   "mimetype": "text/x-python",
   "name": "python",
   "nbconvert_exporter": "python",
   "pygments_lexer": "ipython2",
   "version": "2.7.6"
  }
 },
 "nbformat": 4,
 "nbformat_minor": 5
}
